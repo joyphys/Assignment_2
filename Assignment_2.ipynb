{
 "cells": [
  {
   "cell_type": "code",
   "execution_count": null,
   "id": "b1f1488c",
   "metadata": {},
   "outputs": [],
   "source": [
    "#1.What are the two values of the Boolean data type? How do you write them?\n",
    "\n",
    "True and False. \n",
    "\n",
    "We need to keep the first character in capital.\n",
    "\n",
    "\n"
   ]
  },
  {
   "cell_type": "code",
   "execution_count": null,
   "id": "40c1e651",
   "metadata": {},
   "outputs": [],
   "source": [
    "#2. What are the three different types of Boolean operators?\n",
    "\n",
    "and : (5<7) and (2>1)\n",
    "    \n",
    "or :(5<7) or (2<1)\n",
    "        \n",
    "not : not(5>7)\n",
    "    \n"
   ]
  },
  {
   "cell_type": "code",
   "execution_count": null,
   "id": "4c99280b",
   "metadata": {},
   "outputs": [],
   "source": [
    "\n",
    "#3. Make a list of each Boolean operator's truth tables (i.e. every possible combination of Boolean values for \n",
    "the operator and what it evaluate ).\n",
    "\n",
    "   Truth table for and:\n",
    "    \n",
    "    X         Y          X and Y\n",
    "    True     True        True\n",
    "    True     False       False\n",
    "    False    True        False\n",
    "    False     False       False\n",
    "    \n",
    "\n",
    "    Truth table for or:\n",
    "        \n",
    "        X         Y          X or Y\n",
    "      True     True          True\n",
    "      True     False         True\n",
    "      False    True          True\n",
    "      False     False        False\n",
    "        \n",
    "        \n",
    "        Truth table for not:\n",
    "            \n",
    "        X        not X\n",
    "        True     False\n",
    "        False    True\n",
    "   "
   ]
  },
  {
   "cell_type": "code",
   "execution_count": null,
   "id": "94ec3c4e",
   "metadata": {},
   "outputs": [],
   "source": [
    "     \n",
    "   # 4. What are the values of the following expressions?\n",
    "#(5 > 4) and (3 == 5)\n",
    "#not (5 > 4)\n",
    "#(5 > 4) or (3 == 5)\n",
    "#not ((5 > 4) or (3 == 5))\n",
    "#(True and True) and (True == False)\n",
    "#(not False) or (not True)\n",
    "\n",
    "\n",
    "(5 > 4) and (3 == 5)  :  False\n",
    "    not (5 > 4) : False\n",
    "        (5 > 4) or (3 == 5): True\n",
    "            not ((5 > 4) or (3 == 5)) : False\n",
    "              (True and True) and (True == False) : False\n",
    "               (not False) or (not True) : True \n",
    "   "
   ]
  },
  {
   "cell_type": "code",
   "execution_count": null,
   "id": "3073eacc",
   "metadata": {},
   "outputs": [],
   "source": [
    "             \n",
    "        \n",
    "#5. What are the six comparison operators?\n",
    "\n",
    "==    #equal to\n",
    "!=    #not equal to\n",
    ">    #greater than\n",
    "<    #less than\n",
    "<=   #less than or equal to\n",
    ">=   #greater than or equal to\n"
   ]
  },
  {
   "cell_type": "code",
   "execution_count": null,
   "id": "ee4693df",
   "metadata": {},
   "outputs": [],
   "source": [
    "\n",
    "#6. How do you tell the difference between the equal to and assignment operators?Describe a condition and when you would use one.\n",
    "\n",
    "An assignment operator '=' assigns a value on the right to the variable on the left. \n",
    "An equal to operatopr '==' checks whether the the  operands on both sides are euqal or not. \n",
    "\n",
    "When I wish to assign a value to the varaible named a, I will use asignment operator a=10.\n",
    "\n",
    "When I am testing the content of a , I will use euql to :  If a==10 :\n",
    "                                                                Pass\n",
    "       "
   ]
  },
  {
   "cell_type": "code",
   "execution_count": null,
   "id": "aff3d12a",
   "metadata": {},
   "outputs": [],
   "source": [
    "     \n",
    "            \n",
    "#7. Identify the three blocks in this code:\n",
    "#spam = 0\n",
    "#if spam == 10:\n",
    "#print('eggs')\n",
    "\n",
    "#if spam > 5:\n",
    "#print('bacon')\n",
    "#else:\n",
    "#print('ham')\n",
    "#print('spam')\n",
    "#print('spam')\n",
    "\n",
    "\n",
    "\n",
    "#first block\n",
    "spam = 0\n",
    "if spam == 10:\n",
    "    print('eggs')\n",
    "   \n",
    "#Second block\n",
    "if spam > 5:\n",
    "    print('bacon')\n",
    "else:\n",
    "    print('ham')\n",
    "    \n",
    "#Third block\n",
    "print('spam')\n",
    "print('spam')\n",
    "\n"
   ]
  },
  {
   "cell_type": "code",
   "execution_count": null,
   "id": "e10f3b45",
   "metadata": {},
   "outputs": [],
   "source": [
    "\n",
    "#8. Write code that prints Hello if 1 is stored in spam, prints Howdy if 2 is stored in spam, and prints Greetings! \n",
    "#if anything else is stored in spam.\n",
    "\n",
    "    spam=2\n",
    "if spam==1:\n",
    "    print(\"Hello\")\n",
    "elif spam==2:\n",
    "    print(\"Howdy\")\n",
    "else:\n",
    "    print(\"Greetings!\")\n",
    " "
   ]
  },
  {
   "cell_type": "code",
   "execution_count": null,
   "id": "669ed2e7",
   "metadata": {},
   "outputs": [],
   "source": [
    "       \n",
    "#9.If your programme is stuck in an endless loop, what keys you’ll press?\n",
    "\n",
    "CTRL+C\n"
   ]
  },
  {
   "cell_type": "code",
   "execution_count": null,
   "id": "34174cb8",
   "metadata": {},
   "outputs": [],
   "source": [
    "\n",
    "#10. How can you tell the difference between break and continue?\n",
    "\n",
    "break ends the excution of the loop. It stops. No statement folowing the break is executed. \n",
    "\n",
    "continue keeps the loop going. It causes the sequence to return to the beginning of the loop. No  internal statement following \n",
    "continue is executed, rather it directly return to the first line of the loop.\n",
    "\n",
    "Consider this code:\n",
    "    \n",
    "a=1\n",
    "\n",
    "while a<10:\n",
    "    print(a)\n",
    "    a=a+1\n",
    "    if a<5:\n",
    "        continue\n",
    "    if a>7:\n",
    "        break\n",
    "        \n",
    "        It will keep printing till a=7.  The first 'if' condition is satisfied till a=4 and the control goes over to the \n",
    "        first line of the loop. It does not go to the second 'if' condition. When a=5 is reached, the first 'if' condition fails, \n",
    "        it hands the control over to the second 'if' condition.\n",
    "        The second 'if' condition lets the loop run thrice more for a=5, a=6  and a=7. When a=8 is reached, \n",
    "        the second 'if' condiiton is satisfied as a>7, and the break statement stops the loop. \n",
    "        No further execution or printing of 'a' values happens. So we get the values printed till a=7.\n",
    "        \n",
    "        \n"
   ]
  },
  {
   "cell_type": "code",
   "execution_count": null,
   "id": "83204f5f",
   "metadata": {},
   "outputs": [],
   "source": [
    "\n",
    "#11. In a for loop, what is the difference between range(10), range(0, 10), and range(0, 10, 1)?\n",
    "    \n",
    "    There is no difference . THe outputs will be the same.\n",
    "    \n",
    " "
   ]
  },
  {
   "cell_type": "code",
   "execution_count": null,
   "id": "5b70241c",
   "metadata": {},
   "outputs": [],
   "source": [
    "   \n",
    "#12. Write a short program that prints the numbers 1 to 10 using a for loop. \n",
    "Then write an equivalent program that prints the numbers 1 to 10 using a while loop.\n",
    "\n",
    "for i in range(1,11,1):\n",
    "    print(i)\n",
    "    \n",
    "    \n",
    "    i=1\n",
    "while i<11:\n",
    "    print(i)\n",
    "    i=i+1   \n"
   ]
  },
  {
   "cell_type": "code",
   "execution_count": null,
   "id": "857b77e4",
   "metadata": {},
   "outputs": [],
   "source": [
    "\n",
    "#13. If you had a function named bacon() inside a module named spam, how would you call it after importing spam?\n",
    "\n",
    "import spam\n",
    "\n",
    "spam.bacon()"
   ]
  }
 ],
 "metadata": {
  "kernelspec": {
   "display_name": "Python 3 (ipykernel)",
   "language": "python",
   "name": "python3"
  },
  "language_info": {
   "codemirror_mode": {
    "name": "ipython",
    "version": 3
   },
   "file_extension": ".py",
   "mimetype": "text/x-python",
   "name": "python",
   "nbconvert_exporter": "python",
   "pygments_lexer": "ipython3",
   "version": "3.9.7"
  }
 },
 "nbformat": 4,
 "nbformat_minor": 5
}
